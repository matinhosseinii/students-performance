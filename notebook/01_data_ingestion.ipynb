{
 "cells": [
  {
   "cell_type": "code",
   "execution_count": 2,
   "id": "51cb7382",
   "metadata": {},
   "outputs": [
    {
     "name": "stdout",
     "output_type": "stream",
     "text": [
      "Dataset URL: https://www.kaggle.com/datasets/spscientist/students-performance-in-exams\n",
      "2025-08-28 10:35:43,676 - INFO - Dataset successfully downloaded and unzipped to: src\\data\\01_Raw\n"
     ]
    }
   ],
   "source": [
    "from StudentsPerformance.components.data_ingestion import download_kaggle_dataset\n",
    "download_kaggle_dataset(\n",
    "    dataset_reference = \"spscientist/students-performance-in-exams\",\n",
    "    path_to_save = \"..\\\\data\\\\01_Raw\"\n",
    ")"
   ]
  }
 ],
 "metadata": {
  "kernelspec": {
   "display_name": "venv",
   "language": "python",
   "name": "python3"
  },
  "language_info": {
   "codemirror_mode": {
    "name": "ipython",
    "version": 3
   },
   "file_extension": ".py",
   "mimetype": "text/x-python",
   "name": "python",
   "nbconvert_exporter": "python",
   "pygments_lexer": "ipython3",
   "version": "3.13.3"
  }
 },
 "nbformat": 4,
 "nbformat_minor": 5
}
