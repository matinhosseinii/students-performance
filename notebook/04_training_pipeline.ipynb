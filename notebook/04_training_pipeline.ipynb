{
 "cells": [
  {
   "cell_type": "markdown",
   "id": "370c3325",
   "metadata": {},
   "source": [
    "# 0- Importing Libraries"
   ]
  },
  {
   "cell_type": "code",
   "execution_count": 1,
   "id": "59b6b168",
   "metadata": {},
   "outputs": [],
   "source": [
    "from StudentsPerformance.components import data_ingestion, data_preprocessing, model_trainer"
   ]
  },
  {
   "cell_type": "markdown",
   "id": "c2e8bc48",
   "metadata": {},
   "source": [
    "# 1- Build Instances of the Components"
   ]
  },
  {
   "cell_type": "code",
   "execution_count": 2,
   "id": "88ff485a",
   "metadata": {},
   "outputs": [],
   "source": [
    "ingestion = data_ingestion.DataIngestion()\n",
    "preprocessor = data_preprocessing.DataPreprocessor()\n",
    "trainer = model_trainer.ModelTrainer()"
   ]
  },
  {
   "cell_type": "markdown",
   "id": "6a43a4b8",
   "metadata": {},
   "source": [
    "# 2- Use the main method of each instance in order"
   ]
  },
  {
   "cell_type": "code",
   "execution_count": 3,
   "id": "87369ff9",
   "metadata": {},
   "outputs": [
    {
     "name": "stdout",
     "output_type": "stream",
     "text": [
      "2025-09-10 10:51:19,420 - INFO - Starting the data ingestion process.\n",
      "2025-09-10 10:51:19,421 - INFO - Raw data not found. Downloading from Kaggle...\n",
      "Dataset URL: https://www.kaggle.com/datasets/spscientist/students-performance-in-exams\n",
      "2025-09-10 10:51:21,317 - INFO - Dataset successfully downloaded to: data\\01_Raw\n",
      "2025-09-10 10:51:21,328 - INFO - Raw dataset read successfully.\n",
      "2025-09-10 10:51:21,343 - INFO - Data ingestion completed successfully.\n",
      "2025-09-10 10:51:21,360 - INFO - Read train and test data completed.\n",
      "2025-09-10 10:51:21,361 - INFO - Building the full preprocessing pipeline.\n",
      "2025-09-10 10:51:21,363 - INFO - Preprocessing pipeline created successfully.\n",
      "2025-09-10 10:51:21,364 - INFO - Applying preprocessing pipeline on training and testing dataframes.\n",
      "2025-09-10 10:51:21,365 - INFO - Applying custom data cleaning rules (no custom rules for now).\n",
      "2025-09-10 10:51:21,365 - INFO - Checking for boundary outliers in score columns...\n",
      "2025-09-10 10:51:21,366 - INFO - No boundary outliers found in column 'reading score'.\n",
      "2025-09-10 10:51:21,368 - INFO - No boundary outliers found in column 'writing score'.\n",
      "2025-09-10 10:51:21,368 - INFO - No boundary outliers found in the dataset.\n",
      "2025-09-10 10:51:21,378 - INFO - Applying custom data cleaning rules (no custom rules for now).\n",
      "2025-09-10 10:51:21,379 - INFO - Checking for boundary outliers in score columns...\n",
      "2025-09-10 10:51:21,380 - INFO - No boundary outliers found in column 'reading score'.\n",
      "2025-09-10 10:51:21,381 - INFO - No boundary outliers found in column 'writing score'.\n",
      "2025-09-10 10:51:21,381 - INFO - No boundary outliers found in the dataset.\n",
      "2025-09-10 10:51:21,398 - INFO - Saving preprocessing object.\n",
      "2025-09-10 10:51:21,401 - INFO - Object saved successfully at: models\\preprocessor.pkl\n",
      "2025-09-10 10:51:21,402 - INFO - Preprocessing object is saved in models\\preprocessor.pkl\n",
      "2025-09-10 10:51:21,403 - INFO - Splitting training and testing data into features and target.\n",
      "2025-09-10 10:51:21,404 - INFO - Initializing the best model with optimal hyperparameters.\n",
      "2025-09-10 10:51:21,405 - INFO - Training the model...\n",
      "2025-09-10 10:51:21,406 - INFO - Model training completed.\n",
      "2025-09-10 10:51:21,407 - INFO - Evaluating the model on the test set.\n",
      "2025-09-10 10:51:21,408 - INFO - Final R2 score on the test data: 0.8805\n",
      "2025-09-10 10:51:21,408 - INFO - Saving the trained model object.\n",
      "2025-09-10 10:51:21,410 - INFO - Object saved successfully at: models\\ridge_model.pkl\n",
      "the R2 score of the best model is 0.8805323433456407\n"
     ]
    }
   ],
   "source": [
    "ingestion.initiate_data_ingestion()\n",
    "training_arr, test_arr, _ = preprocessor.run_preprocessing()\n",
    "score = trainer.initiate_model_training(train_array=training_arr, test_array=test_arr)\n",
    "print(f'the R2 score of the best model is {score}')"
   ]
  }
 ],
 "metadata": {
  "kernelspec": {
   "display_name": "venv",
   "language": "python",
   "name": "python3"
  },
  "language_info": {
   "codemirror_mode": {
    "name": "ipython",
    "version": 3
   },
   "file_extension": ".py",
   "mimetype": "text/x-python",
   "name": "python",
   "nbconvert_exporter": "python",
   "pygments_lexer": "ipython3",
   "version": "3.13.3"
  }
 },
 "nbformat": 4,
 "nbformat_minor": 5
}
