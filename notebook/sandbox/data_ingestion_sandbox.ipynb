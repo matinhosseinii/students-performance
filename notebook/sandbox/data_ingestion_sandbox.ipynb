{
 "cells": [
  {
   "cell_type": "code",
   "execution_count": 1,
   "id": "8c17500a",
   "metadata": {},
   "outputs": [],
   "source": [
    "import kaggle\n",
    "from StudentsPerformance.logginig.logger import setup_logger\n",
    "\n",
    "logger = setup_logger()\n",
    "\n",
    "# This function correctly uses the 'path' argument as a destination folder\n",
    "def download_kaggle_dataset(dataset_reference, path_to_save):\n",
    "    kaggle.api.dataset_download_files(\n",
    "        dataset = dataset_reference,\n",
    "        path = path_to_save,\n",
    "        unzip = True  # Automatically unzips the files for you\n",
    "    )\n",
    "\n",
    "    logger.info(f\"Dataset successfully downloaded and unzipped to: src\\\\data\\\\01_Raw\")"
   ]
  },
  {
   "cell_type": "code",
   "execution_count": 3,
   "id": "ca63a86c",
   "metadata": {},
   "outputs": [
    {
     "name": "stdout",
     "output_type": "stream",
     "text": [
      "Dataset URL: https://www.kaggle.com/datasets/spscientist/students-performance-in-exams\n",
      "2025-08-28 10:16:50,773 - INFO - Dataset successfully downloaded and unzipped to: src\\data\\01_Raw\n"
     ]
    }
   ],
   "source": [
    "download_kaggle_dataset(\n",
    "    dataset_reference = \"spscientist/students-performance-in-exams\",\n",
    "    path_to_save = \"..\\\\..\\\\data\\\\01_Raw\"\n",
    ")"
   ]
  },
  {
   "cell_type": "code",
   "execution_count": 1,
   "id": "6b799aa9",
   "metadata": {},
   "outputs": [
    {
     "name": "stdout",
     "output_type": "stream",
     "text": [
      "Dataset URL: https://www.kaggle.com/datasets/spscientist/students-performance-in-exams\n",
      "2025-08-28 10:18:42,444 - INFO - Dataset successfully downloaded and unzipped to: src\\data\\01_Raw\n"
     ]
    }
   ],
   "source": [
    "from StudentsPerformance.components.data_ingestion import download_kaggle_dataset\n",
    "download_kaggle_dataset(\n",
    "    dataset_reference = \"spscientist/students-performance-in-exams\",\n",
    "    path_to_save = \"..\\\\..\\\\data\\\\01_Raw\"\n",
    ")"
   ]
  }
 ],
 "metadata": {
  "kernelspec": {
   "display_name": "venv",
   "language": "python",
   "name": "python3"
  },
  "language_info": {
   "codemirror_mode": {
    "name": "ipython",
    "version": 3
   },
   "file_extension": ".py",
   "mimetype": "text/x-python",
   "name": "python",
   "nbconvert_exporter": "python",
   "pygments_lexer": "ipython3",
   "version": "3.13.3"
  }
 },
 "nbformat": 4,
 "nbformat_minor": 5
}
