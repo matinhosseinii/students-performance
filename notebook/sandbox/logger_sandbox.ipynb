{
 "cells": [
  {
   "cell_type": "markdown",
   "id": "3ddf09ee",
   "metadata": {},
   "source": [
    "# Bad way to write in .py scripts because it will run every time while importing (better to use function)"
   ]
  },
  {
   "cell_type": "code",
   "execution_count": 1,
   "id": "b199b3e6",
   "metadata": {},
   "outputs": [],
   "source": [
    "import logging\n",
    "import sys\n",
    "\n",
    "# Define the format for the log messages\n",
    "log_format = \"%(asctime)s - %(levelname)s - %(message)s\"\n",
    "\n",
    "# Create a logger instance\n",
    "logger = logging.getLogger(\"DataScienceProject\")\n",
    "logger.setLevel(logging.INFO)\n",
    "\n",
    "# Create a handler to write logs to a file\n",
    "file_handler = logging.FileHandler(\"project.log\")\n",
    "file_handler.setFormatter(logging.Formatter(log_format))\n",
    "\n",
    "# Create a handler to stream logs to the console\n",
    "stream_handler = logging.StreamHandler(sys.stdout)\n",
    "stream_handler.setFormatter(logging.Formatter(log_format))\n",
    "\n",
    "# Add both handlers to the logger\n",
    "logger.addHandler(file_handler)\n",
    "logger.addHandler(stream_handler)"
   ]
  },
  {
   "cell_type": "markdown",
   "id": "eb258d6d",
   "metadata": {},
   "source": [
    "## Test the logger"
   ]
  },
  {
   "cell_type": "code",
   "execution_count": 2,
   "id": "ce1eab8a",
   "metadata": {},
   "outputs": [
    {
     "name": "stdout",
     "output_type": "stream",
     "text": [
      "2025-08-28 10:02:58,703 - INFO - hello\n"
     ]
    }
   ],
   "source": [
    "logger.info('hello')"
   ]
  },
  {
   "cell_type": "code",
   "execution_count": 3,
   "id": "44887200",
   "metadata": {},
   "outputs": [
    {
     "name": "stdout",
     "output_type": "stream",
     "text": [
      "2025-08-28 10:02:58,713 - ERROR - something is wrong\n"
     ]
    }
   ],
   "source": [
    "logger.error('something is wrong')"
   ]
  },
  {
   "cell_type": "markdown",
   "id": "0fa7fe19",
   "metadata": {},
   "source": [
    "# Best way to write logger.py\n",
    "if you don't know about what hasHandlers() and RotatingFileHandler() do, search for them."
   ]
  },
  {
   "cell_type": "code",
   "execution_count": 4,
   "id": "83967d2c",
   "metadata": {},
   "outputs": [],
   "source": [
    "import logging\n",
    "import sys\n",
    "from logging.handlers import RotatingFileHandler\n",
    "\n",
    "# Define the format for the log messages\n",
    "LOG_FORMAT = \"%(asctime)s - %(levelname)s - %(message)s\"\n",
    "\n",
    "def setup_logger(name=\"student-performance\", log_file=\"students-performance.log\", level=logging.INFO):\n",
    "    \"\"\"Function to set up a configured logger.\"\"\"\n",
    "    \n",
    "    logger = logging.getLogger(name)\n",
    "    \n",
    "    # 🛡️ Prevents adding handlers multiple times\n",
    "    if logger.hasHandlers():\n",
    "        return logger\n",
    "\n",
    "    logger.setLevel(level)\n",
    "    formatter = logging.Formatter(LOG_FORMAT)\n",
    "\n",
    "    # ⚙️ Handler for rotating log files (e.g., max 5MB, keep 5 old files)\n",
    "    file_handler = RotatingFileHandler(log_file, maxBytes=5*1024*1024, backupCount=5)\n",
    "    file_handler.setFormatter(formatter)\n",
    "    \n",
    "    # Handler for console output\n",
    "    stream_handler = logging.StreamHandler(sys.stdout)\n",
    "    stream_handler.setFormatter(formatter)\n",
    "\n",
    "    logger.addHandler(file_handler)\n",
    "    logger.addHandler(stream_handler)\n",
    "    \n",
    "    return logger"
   ]
  },
  {
   "cell_type": "markdown",
   "id": "2a5cb4d5",
   "metadata": {},
   "source": [
    "## use seperate loggers in seperate files"
   ]
  },
  {
   "cell_type": "code",
   "execution_count": 5,
   "id": "24838a97",
   "metadata": {},
   "outputs": [],
   "source": [
    "logger1 = setup_logger()\n",
    "logger2 = setup_logger(name='personal', log_file='second-file.log')"
   ]
  },
  {
   "cell_type": "code",
   "execution_count": 6,
   "id": "42441329",
   "metadata": {},
   "outputs": [
    {
     "name": "stdout",
     "output_type": "stream",
     "text": [
      "2025-08-28 10:02:58,740 - INFO - hi\n",
      "2025-08-28 10:02:58,741 - INFO - hello\n"
     ]
    }
   ],
   "source": [
    "logger1.info('hi')\n",
    "logger2.info('hello')"
   ]
  }
 ],
 "metadata": {
  "kernelspec": {
   "display_name": "venv",
   "language": "python",
   "name": "python3"
  },
  "language_info": {
   "codemirror_mode": {
    "name": "ipython",
    "version": 3
   },
   "file_extension": ".py",
   "mimetype": "text/x-python",
   "name": "python",
   "nbconvert_exporter": "python",
   "pygments_lexer": "ipython3",
   "version": "3.13.3"
  }
 },
 "nbformat": 4,
 "nbformat_minor": 5
}
