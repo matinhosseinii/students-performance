{
 "cells": [
  {
   "cell_type": "markdown",
   "id": "a53a3477",
   "metadata": {},
   "source": [
    "# Basic code to use custom exception:"
   ]
  },
  {
   "cell_type": "code",
   "execution_count": 2,
   "id": "b3596fb5",
   "metadata": {},
   "outputs": [],
   "source": [
    "import sys\n",
    "def get_error_details(error, error_detail:sys):\n",
    "    \"\"\"\n",
    "    Formats a detailed error message.\n",
    "    \"\"\"\n",
    "    _, _, exc_tb = error_detail.exc_info()\n",
    "    file_name = exc_tb.tb_frame.f_code.co_filename\n",
    "    line_number = exc_tb.tb_lineno\n",
    "    error_message = f\"Error in script '{file_name}' at line {line_number}: {str(error)}\"\n",
    "    return error_message\n",
    "\n",
    "class CustomException(Exception):\n",
    "    \"\"\"\n",
    "    Custom exception class that generates a detailed, formatted error message.\n",
    "    \"\"\"\n",
    "    def __init__(self, error_message, error_detail: sys):\n",
    "        super().__init__(error_message)\n",
    "        self.error_details = get_error_details(\n",
    "            error=error_message,\n",
    "            error_detail=error_detail\n",
    "        )\n",
    "\n",
    "    def __str__(self):\n",
    "        return self.error_details"
   ]
  },
  {
   "cell_type": "markdown",
   "id": "d4a244b3",
   "metadata": {},
   "source": [
    "## an example of using the basic custom exception"
   ]
  },
  {
   "cell_type": "code",
   "execution_count": 3,
   "id": "5d7fb696",
   "metadata": {},
   "outputs": [],
   "source": [
    "def process_data(numerator, denominator):\n",
    "    \"\"\"\n",
    "    A sample function that might fail. Instead of letting it crash with a\n",
    "    generic error, it raises our detailed CustomException.\n",
    "    \"\"\"\n",
    "    try:\n",
    "        print(f\"Attempting to divide {numerator} by {denominator}...\")\n",
    "        result = numerator / denominator\n",
    "        print(\"Division successful.\")\n",
    "        return result\n",
    "    except Exception as e:\n",
    "        # Catch the generic error and re-raise it as our custom, more informative error.\n",
    "        raise CustomException(e, sys)\n",
    "        # pass"
   ]
  },
  {
   "cell_type": "code",
   "execution_count": 4,
   "id": "e6d47621",
   "metadata": {},
   "outputs": [
    {
     "name": "stdout",
     "output_type": "stream",
     "text": [
      "Attempting to divide 6 by 0...\n"
     ]
    },
    {
     "ename": "CustomException",
     "evalue": "Error in script 'C:\\Users\\Matin\\AppData\\Local\\Temp\\ipykernel_8796\\2203031879.py' at line 8: division by zero",
     "output_type": "error",
     "traceback": [
      "\u001b[31m---------------------------------------------------------------------------\u001b[39m",
      "\u001b[31mZeroDivisionError\u001b[39m                         Traceback (most recent call last)",
      "\u001b[36mCell\u001b[39m\u001b[36m \u001b[39m\u001b[32mIn[3]\u001b[39m\u001b[32m, line 8\u001b[39m, in \u001b[36mprocess_data\u001b[39m\u001b[34m(numerator, denominator)\u001b[39m\n\u001b[32m      7\u001b[39m \u001b[38;5;28mprint\u001b[39m(\u001b[33mf\u001b[39m\u001b[33m\"\u001b[39m\u001b[33mAttempting to divide \u001b[39m\u001b[38;5;132;01m{\u001b[39;00mnumerator\u001b[38;5;132;01m}\u001b[39;00m\u001b[33m by \u001b[39m\u001b[38;5;132;01m{\u001b[39;00mdenominator\u001b[38;5;132;01m}\u001b[39;00m\u001b[33m...\u001b[39m\u001b[33m\"\u001b[39m)\n\u001b[32m----> \u001b[39m\u001b[32m8\u001b[39m result = \u001b[43mnumerator\u001b[49m\u001b[43m \u001b[49m\u001b[43m/\u001b[49m\u001b[43m \u001b[49m\u001b[43mdenominator\u001b[49m\n\u001b[32m      9\u001b[39m \u001b[38;5;28mprint\u001b[39m(\u001b[33m\"\u001b[39m\u001b[33mDivision successful.\u001b[39m\u001b[33m\"\u001b[39m)\n",
      "\u001b[31mZeroDivisionError\u001b[39m: division by zero",
      "\nDuring handling of the above exception, another exception occurred:\n",
      "\u001b[31mCustomException\u001b[39m                           Traceback (most recent call last)",
      "\u001b[36mCell\u001b[39m\u001b[36m \u001b[39m\u001b[32mIn[4]\u001b[39m\u001b[32m, line 1\u001b[39m\n\u001b[32m----> \u001b[39m\u001b[32m1\u001b[39m \u001b[43mprocess_data\u001b[49m\u001b[43m(\u001b[49m\u001b[32;43m6\u001b[39;49m\u001b[43m,\u001b[49m\u001b[43m \u001b[49m\u001b[32;43m0\u001b[39;49m\u001b[43m)\u001b[49m\n",
      "\u001b[36mCell\u001b[39m\u001b[36m \u001b[39m\u001b[32mIn[3]\u001b[39m\u001b[32m, line 13\u001b[39m, in \u001b[36mprocess_data\u001b[39m\u001b[34m(numerator, denominator)\u001b[39m\n\u001b[32m     10\u001b[39m     \u001b[38;5;28;01mreturn\u001b[39;00m result\n\u001b[32m     11\u001b[39m \u001b[38;5;28;01mexcept\u001b[39;00m \u001b[38;5;167;01mException\u001b[39;00m \u001b[38;5;28;01mas\u001b[39;00m e:\n\u001b[32m     12\u001b[39m     \u001b[38;5;66;03m# Catch the generic error and re-raise it as our custom, more informative error.\u001b[39;00m\n\u001b[32m---> \u001b[39m\u001b[32m13\u001b[39m     \u001b[38;5;28;01mraise\u001b[39;00m CustomException(e, sys)\n",
      "\u001b[31mCustomException\u001b[39m: Error in script 'C:\\Users\\Matin\\AppData\\Local\\Temp\\ipykernel_8796\\2203031879.py' at line 8: division by zero"
     ]
    }
   ],
   "source": [
    "process_data(6, 0)"
   ]
  },
  {
   "cell_type": "markdown",
   "id": "1bbc294f",
   "metadata": {},
   "source": [
    "# More detailed exception for different kinds of them"
   ]
  },
  {
   "cell_type": "code",
   "execution_count": null,
   "id": "7cc44d0b",
   "metadata": {},
   "outputs": [],
   "source": [
    "import sys\n",
    "\n",
    "# 1. This is the BASE exception. It handles the detailed message formatting.\n",
    "class DataScienceException(Exception):\n",
    "    \"\"\"\n",
    "    Base class for all custom exceptions in this project.\n",
    "    \"\"\"\n",
    "    def __init__(self, error_message: str, error_detail: sys):\n",
    "        super().__init__(error_message)\n",
    "        self.error_message = self._get_detailed_message(error_message, error_detail)\n",
    "\n",
    "    @staticmethod\n",
    "    def _get_detailed_message(error: str, error_detail: sys) -> str:\n",
    "        _, _, exc_tb = error_detail.exc_info()\n",
    "        file_name = exc_tb.tb_frame.f_code.co_filename\n",
    "        line_number = exc_tb.tb_lineno\n",
    "        return (f\"Error in script '{file_name}' at line {line_number}: {error}\")\n",
    "\n",
    "    def __str__(self):\n",
    "        return self.error_message\n",
    "\n",
    "# 2. These are SPECIFIC exceptions that inherit from the base class.\n",
    "\n",
    "class FileProcessingError(DataScienceException):\n",
    "    \"\"\"Exception for errors related to file I/O.\"\"\"\n",
    "    pass # It gets all the functionality from its parent for free.\n",
    "\n",
    "class DataValidationError(DataScienceException):\n",
    "    \"\"\"Exception for errors during data validation, with extra context.\"\"\"\n",
    "    def __init__(self, error_message:str, error_detail:sys, failed_columns:list = None):\n",
    "        super().__init__(error_message, error_detail)\n",
    "        self.failed_columns = failed_columns if failed_columns else []\n",
    "        # Add the extra context to the main error message.\n",
    "        if self.failed_columns:\n",
    "            self.error_message += f\" | Failed Columns: {self.failed_columns}\""
   ]
  }
 ],
 "metadata": {
  "kernelspec": {
   "display_name": "venv",
   "language": "python",
   "name": "python3"
  },
  "language_info": {
   "codemirror_mode": {
    "name": "ipython",
    "version": 3
   },
   "file_extension": ".py",
   "mimetype": "text/x-python",
   "name": "python",
   "nbconvert_exporter": "python",
   "pygments_lexer": "ipython3",
   "version": "3.13.3"
  }
 },
 "nbformat": 4,
 "nbformat_minor": 5
}
