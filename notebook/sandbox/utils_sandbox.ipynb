{
 "cells": [
  {
   "cell_type": "code",
   "execution_count": null,
   "id": "10d4cbe2",
   "metadata": {},
   "outputs": [],
   "source": [
    "# Located in: src/StudentsPerformance/utils.py\n",
    "\n",
    "import os\n",
    "import sys\n",
    "import joblib  # Or you can use 'import pickle'\n",
    "from StudentsPerformance.exception.custom_exception import CustomException\n",
    "from StudentsPerformance.logginig.logger import setup_logger\n",
    "\n",
    "logger = setup_logger()\n",
    "\n",
    "def save_object(file_path: str, obj):\n",
    "    \"\"\"\n",
    "    Saves a Python object to a file using joblib.\n",
    "    \"\"\"\n",
    "    try:\n",
    "        # Get the directory path from the full file path\n",
    "        dir_path = os.path.dirname(file_path)\n",
    "\n",
    "        # Create the directory if it does not already exist\n",
    "        os.makedirs(dir_path, exist_ok=True)\n",
    "\n",
    "        # Open the file in \"write binary\" mode and save the object\n",
    "        with open(file_path, \"wb\") as file_obj:\n",
    "            joblib.dump(obj, file_obj)\n",
    "        \n",
    "        logger.info(f\"Object saved successfully at: {file_path}\")\n",
    "\n",
    "    except Exception as e:\n",
    "        raise CustomException(e, sys)"
   ]
  }
 ],
 "metadata": {
  "language_info": {
   "name": "python"
  }
 },
 "nbformat": 4,
 "nbformat_minor": 5
}
